{
  "cells": [
    {
      "cell_type": "markdown",
      "metadata": {
        "id": "1_-cCBB0vwaI"
      },
      "source": [
        "# Lab Exercise: SQL Analysis with Polars\n",
        "\n",
        "In this lab, you'll practice SQL queries using Polars' built-in SQL functionality. Complete each exercise by writing the appropriate SQL query."
      ]
    },
    {
      "cell_type": "code",
      "source": [
        "# Setup - Run this cell first\n",
        "import polars as pl\n",
        "\n",
        "# Load data\n",
        "airlines = pl.read_csv('https://raw.githubusercontent.com/philhetzel/opan5510-class11/refs/heads/main/data/nyc_airlines.csv')\n",
        "airports = pl.read_csv('https://raw.githubusercontent.com/philhetzel/opan5510-class11/refs/heads/main/data/nyc_airports.csv')\n",
        "flights = pl.read_csv('https://raw.githubusercontent.com/philhetzel/opan5510-class11/refs/heads/main/data/nyc_flights.csv',null_values='NA')\n",
        "planes = pl.read_csv('https://raw.githubusercontent.com/philhetzel/opan5510-class11/refs/heads/main/data/nyc_planes.csv',null_values='NA')\n",
        "weather = pl.read_csv('https://raw.githubusercontent.com/philhetzel/opan5510-class11/refs/heads/main/data/nyc_weather.csv',null_values='NA', infer_schema_length=1000)\n",
        "\n",
        "flights = flights.with_columns(pl.col(\"time_hour\").str.strptime(pl.Datetime))\n",
        "weather = weather.with_columns(pl.col(\"time_hour\").str.strptime(pl.Datetime))\n",
        "\n",
        "# Create SQL context\n",
        "ctx = pl.SQLContext(\n",
        "    airlines=airlines,\n",
        "    airports=airports,\n",
        "    flights=flights,\n",
        "    planes=planes,\n",
        "    weather=weather,\n",
        "    eager_execution=True\n",
        ")\n",
        "\n",
        "print(\"Setup complete! Tables available:\")\n",
        "print(ctx.execute(\"SHOW TABLES\"))"
      ],
      "metadata": {
        "colab": {
          "base_uri": "https://localhost:8080/"
        },
        "id": "mI6bqqDILDIX",
        "outputId": "d0dd5a93-cc21-4a43-8336-65f956c71791"
      },
      "execution_count": null,
      "outputs": [
        {
          "output_type": "stream",
          "name": "stdout",
          "text": [
            "Setup complete! Tables available:\n",
            "shape: (5, 1)\n",
            "┌──────────┐\n",
            "│ name     │\n",
            "│ ---      │\n",
            "│ str      │\n",
            "╞══════════╡\n",
            "│ airlines │\n",
            "│ airports │\n",
            "│ flights  │\n",
            "│ planes   │\n",
            "│ weather  │\n",
            "└──────────┘\n"
          ]
        },
        {
          "output_type": "stream",
          "name": "stderr",
          "text": [
            "/tmp/ipython-input-3200258224.py:15: DeprecationWarning: The argument `eager_execution` for `SQLContext.__init__` is deprecated. It has been renamed to `eager`.\n",
            "  ctx = pl.SQLContext(\n"
          ]
        }
      ]
    },
    {
      "cell_type": "markdown",
      "metadata": {
        "id": "k9__s72bvwaL"
      },
      "source": [
        "## Exercise 1: Basic Queries\n",
        "\n",
        "### 1.1 Find all unique carriers in the airlines table"
      ]
    },
    {
      "cell_type": "code",
      "execution_count": null,
      "metadata": {
        "id": "yrb28Zg8vwaM",
        "colab": {
          "base_uri": "https://localhost:8080/"
        },
        "outputId": "c2089b4f-8cee-4130-a70c-78be970153c6"
      },
      "outputs": [
        {
          "output_type": "stream",
          "name": "stdout",
          "text": [
            "shape: (16, 1)\n",
            "┌─────────┐\n",
            "│ carrier │\n",
            "│ ---     │\n",
            "│ str     │\n",
            "╞═════════╡\n",
            "│ 9E      │\n",
            "│ AA      │\n",
            "│ AS      │\n",
            "│ B6      │\n",
            "│ DL      │\n",
            "│ …       │\n",
            "│ UA      │\n",
            "│ US      │\n",
            "│ VX      │\n",
            "│ WN      │\n",
            "│ YV      │\n",
            "└─────────┘\n"
          ]
        }
      ],
      "source": [
        "# Write your SQL query here\n",
        "result = ctx.execute(\"\"\"\n",
        "SELECT DISTINCT carrier\n",
        "FROM airlines\n",
        "\"\"\")\n",
        "# print(result)\n",
        "print(result)"
      ]
    },
    {
      "cell_type": "markdown",
      "metadata": {
        "id": "H5KGFEicvwaN"
      },
      "source": [
        "### 1.2 Find the top 10 destinations by number of flights"
      ]
    },
    {
      "cell_type": "code",
      "execution_count": null,
      "metadata": {
        "id": "GMVZGsIsvwaN",
        "colab": {
          "base_uri": "https://localhost:8080/"
        },
        "outputId": "cd3ad3c0-5e47-4f57-d403-56961f75bf3f"
      },
      "outputs": [
        {
          "output_type": "stream",
          "name": "stdout",
          "text": [
            "shape: (10, 2)\n",
            "┌──────┬─────────────┐\n",
            "│ dest ┆ num_flights │\n",
            "│ ---  ┆ ---         │\n",
            "│ str  ┆ u32         │\n",
            "╞══════╪═════════════╡\n",
            "│ ORD  ┆ 17283       │\n",
            "│ ATL  ┆ 17215       │\n",
            "│ LAX  ┆ 16174       │\n",
            "│ BOS  ┆ 15508       │\n",
            "│ MCO  ┆ 14082       │\n",
            "│ CLT  ┆ 14064       │\n",
            "│ SFO  ┆ 13331       │\n",
            "│ FLL  ┆ 12055       │\n",
            "│ MIA  ┆ 11728       │\n",
            "│ DCA  ┆ 9705        │\n",
            "└──────┴─────────────┘\n"
          ]
        }
      ],
      "source": [
        "# Write your SQL query here\n",
        "result = ctx.execute(\"\"\"\n",
        "SELeCT dest, COUNT(*) as num_flights\n",
        "FROM flights\n",
        "GROUP BY dest\n",
        "ORDER BY num_flights DESC\n",
        "LIMIT 10\n",
        "\"\"\")\n",
        "# print(result)\n",
        "print(result)"
      ]
    },
    {
      "cell_type": "markdown",
      "metadata": {
        "id": "iv2i2NbCvwaO"
      },
      "source": [
        "### 1.3 Find all flights that departed more than 2 hours late (120 minutes)"
      ]
    },
    {
      "cell_type": "code",
      "execution_count": null,
      "metadata": {
        "id": "yImRaXS6vwaO",
        "colab": {
          "base_uri": "https://localhost:8080/"
        },
        "outputId": "18729385-8a20-4b2f-9d2e-34368da7653d"
      },
      "outputs": [
        {
          "output_type": "stream",
          "name": "stdout",
          "text": [
            "shape: (9_723, 19)\n",
            "┌──────┬───────┬─────┬──────────┬───┬──────────┬──────┬────────┬─────────────────────────┐\n",
            "│ year ┆ month ┆ day ┆ dep_time ┆ … ┆ distance ┆ hour ┆ minute ┆ time_hour               │\n",
            "│ ---  ┆ ---   ┆ --- ┆ ---      ┆   ┆ ---      ┆ ---  ┆ ---    ┆ ---                     │\n",
            "│ i64  ┆ i64   ┆ i64 ┆ i64      ┆   ┆ i64      ┆ i64  ┆ i64    ┆ datetime[μs, UTC]       │\n",
            "╞══════╪═══════╪═════╪══════════╪═══╪══════════╪══════╪════════╪═════════════════════════╡\n",
            "│ 2013 ┆ 1     ┆ 1   ┆ 848      ┆ … ┆ 184      ┆ 18   ┆ 35     ┆ 2013-01-01 23:00:00 UTC │\n",
            "│ 2013 ┆ 1     ┆ 1   ┆ 957      ┆ … ┆ 200      ┆ 7    ┆ 33     ┆ 2013-01-01 12:00:00 UTC │\n",
            "│ 2013 ┆ 1     ┆ 1   ┆ 1114     ┆ … ┆ 1416     ┆ 9    ┆ 0      ┆ 2013-01-01 14:00:00 UTC │\n",
            "│ 2013 ┆ 1     ┆ 1   ┆ 1540     ┆ … ┆ 1598     ┆ 13   ┆ 38     ┆ 2013-01-01 18:00:00 UTC │\n",
            "│ 2013 ┆ 1     ┆ 1   ┆ 1815     ┆ … ┆ 1134     ┆ 13   ┆ 25     ┆ 2013-01-01 18:00:00 UTC │\n",
            "│ …    ┆ …     ┆ …   ┆ …        ┆ … ┆ …        ┆ …    ┆ …      ┆ …                       │\n",
            "│ 2013 ┆ 9     ┆ 30  ┆ 1823     ┆ … ┆ 765      ┆ 15   ┆ 45     ┆ 2013-09-30 19:00:00 UTC │\n",
            "│ 2013 ┆ 9     ┆ 30  ┆ 1951     ┆ … ┆ 708      ┆ 16   ┆ 49     ┆ 2013-09-30 20:00:00 UTC │\n",
            "│ 2013 ┆ 9     ┆ 30  ┆ 2053     ┆ … ┆ 746      ┆ 18   ┆ 15     ┆ 2013-09-30 22:00:00 UTC │\n",
            "│ 2013 ┆ 9     ┆ 30  ┆ 2159     ┆ … ┆ 301      ┆ 18   ┆ 45     ┆ 2013-09-30 22:00:00 UTC │\n",
            "│ 2013 ┆ 9     ┆ 30  ┆ 2235     ┆ … ┆ 944      ┆ 20   ┆ 1      ┆ 2013-10-01 00:00:00 UTC │\n",
            "└──────┴───────┴─────┴──────────┴───┴──────────┴──────┴────────┴─────────────────────────┘\n"
          ]
        }
      ],
      "source": [
        "# Write your SQL query here\n",
        "result = ctx.execute(\"\"\"\n",
        "SELECT *\n",
        "FROM flights\n",
        "WHERE dep_delay > 120\n",
        "\"\"\")\n",
        "\n",
        "# print(result)\n",
        "print(result)"
      ]
    },
    {
      "cell_type": "markdown",
      "metadata": {
        "id": "R89ScFmnvwaP"
      },
      "source": [
        "## Exercise 2: Aggregation\n",
        "\n",
        "### 2.1 Calculate the average departure delay for each origin airport"
      ]
    },
    {
      "cell_type": "code",
      "execution_count": null,
      "metadata": {
        "id": "iIoQEa5KvwaP",
        "colab": {
          "base_uri": "https://localhost:8080/"
        },
        "outputId": "82445fa7-3aa9-43de-97e7-9d76993cb2a2"
      },
      "outputs": [
        {
          "output_type": "stream",
          "name": "stdout",
          "text": [
            "shape: (3, 2)\n",
            "┌────────┬───────────┐\n",
            "│ origin ┆ avg_delay │\n",
            "│ ---    ┆ ---       │\n",
            "│ str    ┆ f64       │\n",
            "╞════════╪═══════════╡\n",
            "│ EWR    ┆ 15.107954 │\n",
            "│ JFK    ┆ 12.112159 │\n",
            "│ LGA    ┆ 10.346876 │\n",
            "└────────┴───────────┘\n"
          ]
        }
      ],
      "source": [
        "# Write your SQL query here\n",
        "result = ctx.execute(\"\"\"\n",
        "SELECT origin, AVG(dep_delay) as avg_delay\n",
        "FROM flights\n",
        "WHERE dep_delay IS NOT NULL\n",
        "GROUP BY origin\n",
        "ORDER BY avg_delay DESC\n",
        "\"\"\")\n",
        "\n",
        "# print(result)\n",
        "print(result)"
      ]
    },
    {
      "cell_type": "markdown",
      "metadata": {
        "id": "xnXZThuvvwaR"
      },
      "source": [
        "### 2.2 Find the busiest month of the year\n",
        "\n",
        "Count the number of flights per month and find which month has the most flights."
      ]
    },
    {
      "cell_type": "code",
      "execution_count": null,
      "metadata": {
        "id": "nHag6UhuvwaR",
        "colab": {
          "base_uri": "https://localhost:8080/"
        },
        "outputId": "5027af05-d4a1-4358-e98e-d531900c002a"
      },
      "outputs": [
        {
          "output_type": "stream",
          "name": "stdout",
          "text": [
            "shape: (5, 19)\n",
            "┌──────┬───────┬─────┬──────────┬───┬──────────┬──────┬────────┬─────────────────────────┐\n",
            "│ year ┆ month ┆ day ┆ dep_time ┆ … ┆ distance ┆ hour ┆ minute ┆ time_hour               │\n",
            "│ ---  ┆ ---   ┆ --- ┆ ---      ┆   ┆ ---      ┆ ---  ┆ ---    ┆ ---                     │\n",
            "│ i64  ┆ i64   ┆ i64 ┆ i64      ┆   ┆ i64      ┆ i64  ┆ i64    ┆ datetime[μs, UTC]       │\n",
            "╞══════╪═══════╪═════╪══════════╪═══╪══════════╪══════╪════════╪═════════════════════════╡\n",
            "│ 2013 ┆ 1     ┆ 1   ┆ 517      ┆ … ┆ 1400     ┆ 5    ┆ 15     ┆ 2013-01-01 10:00:00 UTC │\n",
            "│ 2013 ┆ 1     ┆ 1   ┆ 533      ┆ … ┆ 1416     ┆ 5    ┆ 29     ┆ 2013-01-01 10:00:00 UTC │\n",
            "│ 2013 ┆ 1     ┆ 1   ┆ 542      ┆ … ┆ 1089     ┆ 5    ┆ 40     ┆ 2013-01-01 10:00:00 UTC │\n",
            "│ 2013 ┆ 1     ┆ 1   ┆ 544      ┆ … ┆ 1576     ┆ 5    ┆ 45     ┆ 2013-01-01 10:00:00 UTC │\n",
            "│ 2013 ┆ 1     ┆ 1   ┆ 554      ┆ … ┆ 762      ┆ 6    ┆ 0      ┆ 2013-01-01 11:00:00 UTC │\n",
            "└──────┴───────┴─────┴──────────┴───┴──────────┴──────┴────────┴─────────────────────────┘\n",
            "shape: (1, 2)\n",
            "┌───────┬─────────────┐\n",
            "│ month ┆ num_flights │\n",
            "│ ---   ┆ ---         │\n",
            "│ i64   ┆ u32         │\n",
            "╞═══════╪═════════════╡\n",
            "│ 7     ┆ 29425       │\n",
            "└───────┴─────────────┘\n"
          ]
        }
      ],
      "source": [
        "# First, let's check what columns are available\n",
        "result = ctx.execute(\"\"\"\n",
        "    SELECT *\n",
        "    FROM flights\n",
        "    LIMIT 5\n",
        "\"\"\")\n",
        "# print(result)\n",
        "print(result)\n",
        "\n",
        "# Now write your query to find busiest month\n",
        "result = ctx.execute(\"\"\"\n",
        "SELECT month, COUNT(*) as num_flights\n",
        "FROM flights\n",
        "GROUP BY month\n",
        "ORDER BY num_flights DESC\n",
        "LIMIT 1\n",
        "\"\"\")\n",
        "# print(result)\n",
        "print(result)"
      ]
    },
    {
      "cell_type": "markdown",
      "metadata": {
        "id": "R_xNK353vwaS"
      },
      "source": [
        "### 2.3 Calculate the on-time performance rate for each carrier\n",
        "\n",
        "Consider a flight on-time if the departure delay is <= 15 minutes."
      ]
    },
    {
      "cell_type": "code",
      "execution_count": null,
      "metadata": {
        "id": "6OL8_tsmvwaT",
        "colab": {
          "base_uri": "https://localhost:8080/"
        },
        "outputId": "da716f40-6f89-4b56-b702-02a191bd20b1"
      },
      "outputs": [
        {
          "output_type": "stream",
          "name": "stdout",
          "text": [
            "shape: (16, 2)\n",
            "┌─────────┬──────────────────────────┐\n",
            "│ carrier ┆ on_time_performance_rate │\n",
            "│ ---     ┆ ---                      │\n",
            "│ str     ┆ f64                      │\n",
            "╞═════════╪══════════════════════════╡\n",
            "│ HA      ┆ 92.982456                │\n",
            "│ AS      ┆ 86.554622                │\n",
            "│ US      ┆ 84.987339                │\n",
            "│ DL      ┆ 83.074205                │\n",
            "│ AA      ┆ 82.437594                │\n",
            "│ …       ┆ …                        │\n",
            "│ FL      ┆ 71.687117                │\n",
            "│ F9      ┆ 71.532847                │\n",
            "│ 9E      ┆ 70.124594                │\n",
            "│ EV      ┆ 65.922138                │\n",
            "│ YV      ┆ 64.725458                │\n",
            "└─────────┴──────────────────────────┘\n"
          ]
        }
      ],
      "source": [
        "# Write your SQL query here\n",
        "result = ctx.execute(\"\"\"\n",
        "SELECT carrier,\n",
        "  (AVG(CASE WHEN dep_delay <= 15 THEN 1 ELSE 0 END) * 100) AS on_time_performance_rate\n",
        "FROM flights\n",
        "GROUP BY carrier\n",
        "ORDER BY on_time_performance_rate DESC\n",
        "\"\"\")\n",
        "\n",
        "# print(result)\n",
        "print(result)"
      ]
    },
    {
      "cell_type": "markdown",
      "metadata": {
        "id": "DLja6FHdvwaT"
      },
      "source": [
        "## Exercise 3: Joins\n",
        "\n",
        "### 3.1 List all flights with their airline names (not just carrier codes)\n",
        "\n",
        "Show the first 20 flights with carrier code, airline name, flight number, origin, and destination."
      ]
    },
    {
      "cell_type": "code",
      "execution_count": null,
      "metadata": {
        "id": "pZruMSFRvwaU",
        "colab": {
          "base_uri": "https://localhost:8080/"
        },
        "outputId": "00ebde4e-84de-4309-881f-8e0a4c7fc06a"
      },
      "outputs": [
        {
          "output_type": "stream",
          "name": "stdout",
          "text": [
            "shape: (20, 5)\n",
            "┌─────────┬────────────────────────┬────────┬────────┬──────┐\n",
            "│ carrier ┆ airline_name           ┆ flight ┆ origin ┆ dest │\n",
            "│ ---     ┆ ---                    ┆ ---    ┆ ---    ┆ ---  │\n",
            "│ str     ┆ str                    ┆ i64    ┆ str    ┆ str  │\n",
            "╞═════════╪════════════════════════╪════════╪════════╪══════╡\n",
            "│ UA      ┆ United Air Lines Inc.  ┆ 1545   ┆ EWR    ┆ IAH  │\n",
            "│ UA      ┆ United Air Lines Inc.  ┆ 1714   ┆ LGA    ┆ IAH  │\n",
            "│ AA      ┆ American Airlines Inc. ┆ 1141   ┆ JFK    ┆ MIA  │\n",
            "│ B6      ┆ JetBlue Airways        ┆ 725    ┆ JFK    ┆ BQN  │\n",
            "│ DL      ┆ Delta Air Lines Inc.   ┆ 461    ┆ LGA    ┆ ATL  │\n",
            "│ …       ┆ …                      ┆ …      ┆ …      ┆ …    │\n",
            "│ B6      ┆ JetBlue Airways        ┆ 1806   ┆ JFK    ┆ BOS  │\n",
            "│ UA      ┆ United Air Lines Inc.  ┆ 1187   ┆ EWR    ┆ LAS  │\n",
            "│ B6      ┆ JetBlue Airways        ┆ 371    ┆ LGA    ┆ FLL  │\n",
            "│ MQ      ┆ Envoy Air              ┆ 4650   ┆ LGA    ┆ ATL  │\n",
            "│ B6      ┆ JetBlue Airways        ┆ 343    ┆ EWR    ┆ PBI  │\n",
            "└─────────┴────────────────────────┴────────┴────────┴──────┘\n"
          ]
        }
      ],
      "source": [
        "# Write your SQL query here\n",
        "result = ctx.execute(\"\"\"\n",
        "SELECT\n",
        "  f.carrier,\n",
        "  a.name AS airline_name,\n",
        "  f.flight,\n",
        "  f.origin,\n",
        "  f.dest\n",
        "FROM flights AS f\n",
        "JOIN airlines AS a\n",
        "  ON f.carrier = a.carrier\n",
        "LIMIT 20\n",
        "\"\"\")\n",
        "\n",
        "\n",
        "# print(result)\n",
        "print(result)"
      ]
    },
    {
      "cell_type": "markdown",
      "metadata": {
        "id": "s5Mbzz7kvwaU"
      },
      "source": [
        "### 3.2 Find the average age of planes for each carrier\n",
        "\n",
        "Hint: The planes table has a `year` column for manufacture year. Calculate age based on 2013."
      ]
    },
    {
      "cell_type": "code",
      "execution_count": null,
      "metadata": {
        "id": "UnH3urs3vwaV",
        "colab": {
          "base_uri": "https://localhost:8080/"
        },
        "outputId": "9cf6b523-7fb1-4ea8-f7c7-e1744f2f8923"
      },
      "outputs": [
        {
          "output_type": "stream",
          "name": "stdout",
          "text": [
            "shape: (16, 2)\n",
            "┌─────────┬───────────────┐\n",
            "│ carrier ┆ avg_plane_age │\n",
            "│ ---     ┆ ---           │\n",
            "│ str     ┆ f64           │\n",
            "╞═════════╪═══════════════╡\n",
            "│ MQ      ┆ 35.319        │\n",
            "│ AA      ┆ 25.869426     │\n",
            "│ DL      ┆ 16.372169     │\n",
            "│ UA      ┆ 13.207691     │\n",
            "│ FL      ┆ 11.385829     │\n",
            "│ …       ┆ …             │\n",
            "│ B6      ┆ 6.686702      │\n",
            "│ F9      ┆ 4.87874       │\n",
            "│ VX      ┆ 4.473643      │\n",
            "│ AS      ┆ 3.33662       │\n",
            "│ HA      ┆ 1.548387      │\n",
            "└─────────┴───────────────┘\n"
          ]
        }
      ],
      "source": [
        "# Write your SQL query here\n",
        "result = ctx.execute(\"\"\"\n",
        "SELECT\n",
        "  f.carrier,\n",
        "  AVG(2013 - p.year) AS avg_plane_age\n",
        "FROM flights AS f\n",
        "JOIN planes AS p\n",
        "  ON f.tailnum = p.tailnum\n",
        "WHERE p.year IS NOT NULL\n",
        "GROUP BY f.carrier\n",
        "ORDER BY avg_plane_age DESC\n",
        "\"\"\")\n",
        "\n",
        "# print(result)\n",
        "print(result)"
      ]
    },
    {
      "cell_type": "markdown",
      "metadata": {
        "id": "XuDX4p2BvwaW"
      },
      "source": [
        "### 3.3 Find flights that experienced both departure delays and bad weather\n",
        "\n",
        "Join flights with weather data and find flights where departure delay > 30 minutes and either wind_speed > 20 or precip > 0.1"
      ]
    },
    {
      "cell_type": "code",
      "execution_count": null,
      "metadata": {
        "id": "cxyozh0ZvwaW",
        "colab": {
          "base_uri": "https://localhost:8080/"
        },
        "outputId": "f86965a3-6897-423e-c944-d8a460efd8f2"
      },
      "outputs": [
        {
          "output_type": "stream",
          "name": "stdout",
          "text": [
            "shape: (5, 15)\n",
            "┌────────┬──────┬───────┬─────┬───┬────────┬──────────┬───────┬─────────────────────────┐\n",
            "│ origin ┆ year ┆ month ┆ day ┆ … ┆ precip ┆ pressure ┆ visib ┆ time_hour               │\n",
            "│ ---    ┆ ---  ┆ ---   ┆ --- ┆   ┆ ---    ┆ ---      ┆ ---   ┆ ---                     │\n",
            "│ str    ┆ i64  ┆ i64   ┆ i64 ┆   ┆ f64    ┆ f64      ┆ f64   ┆ datetime[μs, UTC]       │\n",
            "╞════════╪══════╪═══════╪═════╪═══╪════════╪══════════╪═══════╪═════════════════════════╡\n",
            "│ EWR    ┆ 2013 ┆ 1     ┆ 1   ┆ … ┆ 0.0    ┆ 1012.0   ┆ 10.0  ┆ 2013-01-01 06:00:00 UTC │\n",
            "│ EWR    ┆ 2013 ┆ 1     ┆ 1   ┆ … ┆ 0.0    ┆ 1012.3   ┆ 10.0  ┆ 2013-01-01 07:00:00 UTC │\n",
            "│ EWR    ┆ 2013 ┆ 1     ┆ 1   ┆ … ┆ 0.0    ┆ 1012.5   ┆ 10.0  ┆ 2013-01-01 08:00:00 UTC │\n",
            "│ EWR    ┆ 2013 ┆ 1     ┆ 1   ┆ … ┆ 0.0    ┆ 1012.2   ┆ 10.0  ┆ 2013-01-01 09:00:00 UTC │\n",
            "│ EWR    ┆ 2013 ┆ 1     ┆ 1   ┆ … ┆ 0.0    ┆ 1011.9   ┆ 10.0  ┆ 2013-01-01 10:00:00 UTC │\n",
            "└────────┴──────┴───────┴─────┴───┴────────┴──────────┴───────┴─────────────────────────┘\n",
            "shape: (4_938, 6)\n",
            "┌────────┬────────┬──────┬───────────┬────────────┬────────┐\n",
            "│ flight ┆ origin ┆ dest ┆ dep_delay ┆ wind_speed ┆ precip │\n",
            "│ ---    ┆ ---    ┆ ---  ┆ ---       ┆ ---        ┆ ---    │\n",
            "│ i64    ┆ str    ┆ str  ┆ i64       ┆ f64        ┆ f64    │\n",
            "╞════════╪════════╪══════╪═══════════╪════════════╪════════╡\n",
            "│ 21     ┆ JFK    ┆ TPA  ┆ 47        ┆ 21.86482   ┆ 0.0    │\n",
            "│ 199    ┆ JFK    ┆ LAS  ┆ 116       ┆ 21.86482   ┆ 0.0    │\n",
            "│ 4090   ┆ EWR    ┆ JAX  ┆ 39        ┆ 20.71404   ┆ 0.0    │\n",
            "│ 4231   ┆ EWR    ┆ IAD  ┆ 40        ┆ 24.16638   ┆ 0.0    │\n",
            "│ 1010   ┆ JFK    ┆ BOS  ┆ 33        ┆ 20.71404   ┆ 0.0    │\n",
            "│ …      ┆ …      ┆ …    ┆ …         ┆ …          ┆ …      │\n",
            "│ 2347   ┆ LGA    ┆ ATL  ┆ 41        ┆ 20.71404   ┆ 0.0    │\n",
            "│ 5503   ┆ LGA    ┆ PIT  ┆ 97        ┆ 20.71404   ┆ 0.0    │\n",
            "│ 135    ┆ JFK    ┆ PHX  ┆ 42        ┆ 21.86482   ┆ 0.0    │\n",
            "│ 797    ┆ JFK    ┆ LAX  ┆ 46        ┆ 21.86482   ┆ 0.0    │\n",
            "│ 985    ┆ JFK    ┆ BOS  ┆ 45        ┆ 21.86482   ┆ 0.0    │\n",
            "└────────┴────────┴──────┴───────────┴────────────┴────────┘\n"
          ]
        }
      ],
      "source": [
        "# First, explore the weather table structure\n",
        "result = ctx.execute(\"\"\"\n",
        "    SELECT *\n",
        "    FROM weather\n",
        "    LIMIT 5\n",
        "\"\"\")\n",
        "# print(result)\n",
        "print(result)\n",
        "\n",
        "# Now write your join query\n",
        "result = ctx.execute(\"\"\"\n",
        "SELECT\n",
        "  f.flight,\n",
        "  f.origin,\n",
        "  f.dest,\n",
        "  f.dep_delay,\n",
        "  w.wind_speed,\n",
        "  w.precip\n",
        "FROM flights AS f\n",
        "JOIN weather AS w\n",
        "  ON f.time_hour = w.time_hour AND f.origin = w.origin\n",
        "WHERE f.dep_delay > 30\n",
        "  AND (w.wind_speed > 20 OR w.precip > 0.1)\n",
        "\"\"\")\n",
        "\n",
        "# print(result)\n",
        "print(result)"
      ]
    },
    {
      "cell_type": "markdown",
      "metadata": {
        "id": "zUK5ZZccvwaX"
      },
      "source": [
        "## Exercise 4: Advanced Queries\n",
        "\n",
        "### 4.1 Find the most popular aircraft types (by number of flights)\n",
        "\n",
        "Join flights with planes to get manufacturer and model information. Show top 10."
      ]
    },
    {
      "cell_type": "code",
      "execution_count": null,
      "metadata": {
        "id": "lMf_wlBhvwaX",
        "colab": {
          "base_uri": "https://localhost:8080/"
        },
        "outputId": "8e478d68-8c94-46a2-88fd-340db8c40f6a"
      },
      "outputs": [
        {
          "output_type": "stream",
          "name": "stdout",
          "text": [
            "shape: (10, 3)\n",
            "┌───────────────────────────────┬─────────────────┬──────────────┐\n",
            "│ manufacturer                  ┆ model           ┆ flight_count │\n",
            "│ ---                           ┆ ---             ┆ ---          │\n",
            "│ str                           ┆ str             ┆ u32          │\n",
            "╞═══════════════════════════════╪═════════════════╪══════════════╡\n",
            "│ AIRBUS                        ┆ A320-232        ┆ 31278        │\n",
            "│ EMBRAER                       ┆ EMB-145LR       ┆ 28027        │\n",
            "│ EMBRAER                       ┆ ERJ 190-100 IGW ┆ 23716        │\n",
            "│ AIRBUS INDUSTRIE              ┆ A320-232        ┆ 14553        │\n",
            "│ EMBRAER                       ┆ EMB-145XR       ┆ 14051        │\n",
            "│ BOEING                        ┆ 737-824         ┆ 13809        │\n",
            "│ BOMBARDIER INC                ┆ CL-600-2D24     ┆ 11807        │\n",
            "│ BOEING                        ┆ 737-7H4         ┆ 10389        │\n",
            "│ BOEING                        ┆ 757-222         ┆ 9150         │\n",
            "│ MCDONNELL DOUGLAS AIRCRAFT CO ┆ MD-88           ┆ 8932         │\n",
            "└───────────────────────────────┴─────────────────┴──────────────┘\n"
          ]
        }
      ],
      "source": [
        "# Write your SQL query here\n",
        "result = ctx.execute(\"\"\"\n",
        "SELECT\n",
        "  p.manufacturer,\n",
        "  p.model,\n",
        "  COUNT(*) AS flight_count\n",
        "FROM flights AS f\n",
        "JOIN planes AS p\n",
        "  ON f.tailnum = p.tailnum\n",
        "WHERE p.manufacturer IS NOT NULL AND p.model IS NOT NULL\n",
        "GROUP BY p.manufacturer, p.model\n",
        "ORDER BY flight_count DESC\n",
        "LIMIT 10\n",
        "\"\"\")\n",
        "\n",
        "# print(result)\n",
        "print(result)"
      ]
    },
    {
      "cell_type": "markdown",
      "metadata": {
        "id": "KWz6ZLEcvwaY"
      },
      "source": [
        "### 4.2 Analyze route performance\n",
        "\n",
        "Find the top 10 routes (origin-destination pairs) with:\n",
        "- Total number of flights\n",
        "- Average departure delay\n",
        "- Percentage of flights delayed more than 30 minutes\n",
        "\n",
        "Include airport names, not just codes."
      ]
    },
    {
      "cell_type": "code",
      "execution_count": null,
      "metadata": {
        "id": "1TqxU-asvwaZ",
        "colab": {
          "base_uri": "https://localhost:8080/"
        },
        "outputId": "f2107bed-4d03-4fab-99ba-0987ad3187b1"
      },
      "outputs": [
        {
          "output_type": "stream",
          "name": "stdout",
          "text": [
            "shape: (10, 5)\n",
            "┌─────────────────────┬──────────────────────┬───────────────┬───────────────┬─────────────────────┐\n",
            "│ origin              ┆ dest                 ┆ total_flights ┆ avg_dep_delay ┆ pct_delayed_over_30 │\n",
            "│ ---                 ┆ ---                  ┆ ---           ┆ ---           ┆ ---                 │\n",
            "│ str                 ┆ str                  ┆ u32           ┆ f64           ┆ f64                 │\n",
            "╞═════════════════════╪══════════════════════╪═══════════════╪═══════════════╪═════════════════════╡\n",
            "│ John F Kennedy Intl ┆ Los Angeles Intl     ┆ 11262         ┆ 8.522508      ┆ 9.829515            │\n",
            "│ La Guardia          ┆ Hartsfield Jackson   ┆ 10263         ┆ 11.448621     ┆ 12.247881           │\n",
            "│                     ┆ Atlanta Int…         ┆               ┆               ┆                     │\n",
            "│ La Guardia          ┆ Chicago Ohare Intl   ┆ 8857          ┆ 10.740758     ┆ 13.345377           │\n",
            "│ John F Kennedy Intl ┆ San Francisco Intl   ┆ 8204          ┆ 11.952691     ┆ 12.116041           │\n",
            "│ La Guardia          ┆ Charlotte Douglas    ┆ 6168          ┆ 8.965321      ┆ 11.948768           │\n",
            "│                     ┆ Intl                 ┆               ┆               ┆                     │\n",
            "│ Newark Liberty Intl ┆ Chicago Ohare Intl   ┆ 6100          ┆ 14.644163     ┆ 16.0                │\n",
            "│ John F Kennedy Intl ┆ General Edward       ┆ 5898          ┆ 11.694953     ┆ 13.767379           │\n",
            "│                     ┆ Lawrence Logan …     ┆               ┆               ┆                     │\n",
            "│ La Guardia          ┆ Miami Intl           ┆ 5781          ┆ 7.361747      ┆ 9.462031            │\n",
            "│ John F Kennedy Intl ┆ Orlando Intl         ┆ 5464          ┆ 10.601583     ┆ 12.719619           │\n",
            "│ Newark Liberty Intl ┆ General Edward       ┆ 5327          ┆ 12.54561      ┆ 14.9052             │\n",
            "│                     ┆ Lawrence Logan …     ┆               ┆               ┆                     │\n",
            "└─────────────────────┴──────────────────────┴───────────────┴───────────────┴─────────────────────┘\n"
          ]
        }
      ],
      "source": [
        "# Write your SQL query here\n",
        "result = ctx.execute(\"\"\"\n",
        "WITH RouteStats AS (\n",
        "  SELECT\n",
        "    f.origin AS origin_code,\n",
        "    f.dest AS dest_code,\n",
        "    a1.name AS origin_name,\n",
        "    a2.name AS dest_name,\n",
        "    f.dep_delay\n",
        "  FROM flights AS f\n",
        "  JOIN airports AS a1 ON f.origin = a1.faa\n",
        "  JOIN airports AS a2 ON f.dest = a2.faa\n",
        ")\n",
        "SELECT\n",
        "  origin_name AS origin,\n",
        "  dest_name AS dest,\n",
        "  COUNT(*) AS total_flights,\n",
        "  AVG(dep_delay) AS avg_dep_delay,\n",
        "  100.0 * SUM(CASE WHEN dep_delay > 30 THEN 1 ELSE 0 END) / COUNT(*) AS pct_delayed_over_30\n",
        "  FROM RouteStats\n",
        "GROUP BY origin_name, dest_name\n",
        "ORDER BY total_flights DESC\n",
        "LIMIT 10;\n",
        "\"\"\")\n",
        "\n",
        "# print(result)\n",
        "print(result)"
      ]
    },
    {
      "cell_type": "markdown",
      "metadata": {
        "id": "FtMGhCrUvwaa"
      },
      "source": [
        "## Bonus: Compare with Polars\n",
        "\n",
        "### Choose one of the queries above and implement it using Polars\n",
        "\n",
        "This will help you understand the relationship between SQL and Polars operations."
      ]
    },
    {
      "cell_type": "code",
      "execution_count": null,
      "metadata": {
        "id": "zAfh6gABvwaa",
        "colab": {
          "base_uri": "https://localhost:8080/"
        },
        "outputId": "129ae99c-2c1f-4043-f066-c976f4ec73d9"
      },
      "outputs": [
        {
          "output_type": "stream",
          "name": "stdout",
          "text": [
            "SQL Result:\n",
            "shape: (3, 2)\n",
            "┌────────┬───────────┐\n",
            "│ origin ┆ avg_delay │\n",
            "│ ---    ┆ ---       │\n",
            "│ str    ┆ f64       │\n",
            "╞════════╪═══════════╡\n",
            "│ EWR    ┆ 15.107954 │\n",
            "│ JFK    ┆ 12.112159 │\n",
            "│ LGA    ┆ 10.346876 │\n",
            "└────────┴───────────┘\n",
            "\n",
            "Polars Result:\n",
            "shape: (3, 2)\n",
            "┌────────┬───────────┐\n",
            "│ origin ┆ avg_delay │\n",
            "│ ---    ┆ ---       │\n",
            "│ str    ┆ f64       │\n",
            "╞════════╪═══════════╡\n",
            "│ EWR    ┆ 15.107954 │\n",
            "│ JFK    ┆ 12.112159 │\n",
            "│ LGA    ┆ 10.346876 │\n",
            "└────────┴───────────┘\n",
            "shape: (9_723, 19)\n",
            "┌──────┬───────┬─────┬──────────┬───┬──────────┬──────┬────────┬─────────────────────────┐\n",
            "│ year ┆ month ┆ day ┆ dep_time ┆ … ┆ distance ┆ hour ┆ minute ┆ time_hour               │\n",
            "│ ---  ┆ ---   ┆ --- ┆ ---      ┆   ┆ ---      ┆ ---  ┆ ---    ┆ ---                     │\n",
            "│ i64  ┆ i64   ┆ i64 ┆ i64      ┆   ┆ i64      ┆ i64  ┆ i64    ┆ datetime[μs, UTC]       │\n",
            "╞══════╪═══════╪═════╪══════════╪═══╪══════════╪══════╪════════╪═════════════════════════╡\n",
            "│ 2013 ┆ 1     ┆ 1   ┆ 848      ┆ … ┆ 184      ┆ 18   ┆ 35     ┆ 2013-01-01 23:00:00 UTC │\n",
            "│ 2013 ┆ 1     ┆ 1   ┆ 957      ┆ … ┆ 200      ┆ 7    ┆ 33     ┆ 2013-01-01 12:00:00 UTC │\n",
            "│ 2013 ┆ 1     ┆ 1   ┆ 1114     ┆ … ┆ 1416     ┆ 9    ┆ 0      ┆ 2013-01-01 14:00:00 UTC │\n",
            "│ 2013 ┆ 1     ┆ 1   ┆ 1540     ┆ … ┆ 1598     ┆ 13   ┆ 38     ┆ 2013-01-01 18:00:00 UTC │\n",
            "│ 2013 ┆ 1     ┆ 1   ┆ 1815     ┆ … ┆ 1134     ┆ 13   ┆ 25     ┆ 2013-01-01 18:00:00 UTC │\n",
            "│ …    ┆ …     ┆ …   ┆ …        ┆ … ┆ …        ┆ …    ┆ …      ┆ …                       │\n",
            "│ 2013 ┆ 9     ┆ 30  ┆ 1823     ┆ … ┆ 765      ┆ 15   ┆ 45     ┆ 2013-09-30 19:00:00 UTC │\n",
            "│ 2013 ┆ 9     ┆ 30  ┆ 1951     ┆ … ┆ 708      ┆ 16   ┆ 49     ┆ 2013-09-30 20:00:00 UTC │\n",
            "│ 2013 ┆ 9     ┆ 30  ┆ 2053     ┆ … ┆ 746      ┆ 18   ┆ 15     ┆ 2013-09-30 22:00:00 UTC │\n",
            "│ 2013 ┆ 9     ┆ 30  ┆ 2159     ┆ … ┆ 301      ┆ 18   ┆ 45     ┆ 2013-09-30 22:00:00 UTC │\n",
            "│ 2013 ┆ 9     ┆ 30  ┆ 2235     ┆ … ┆ 944      ┆ 20   ┆ 1      ┆ 2013-10-01 00:00:00 UTC │\n",
            "└──────┴───────┴─────┴──────────┴───┴──────────┴──────┴────────┴─────────────────────────┘\n",
            "shape: (9_723, 19)\n",
            "┌──────┬───────┬─────┬──────────┬───┬──────────┬──────┬────────┬─────────────────────────┐\n",
            "│ year ┆ month ┆ day ┆ dep_time ┆ … ┆ distance ┆ hour ┆ minute ┆ time_hour               │\n",
            "│ ---  ┆ ---   ┆ --- ┆ ---      ┆   ┆ ---      ┆ ---  ┆ ---    ┆ ---                     │\n",
            "│ i64  ┆ i64   ┆ i64 ┆ i64      ┆   ┆ i64      ┆ i64  ┆ i64    ┆ datetime[μs, UTC]       │\n",
            "╞══════╪═══════╪═════╪══════════╪═══╪══════════╪══════╪════════╪═════════════════════════╡\n",
            "│ 2013 ┆ 1     ┆ 1   ┆ 848      ┆ … ┆ 184      ┆ 18   ┆ 35     ┆ 2013-01-01 23:00:00 UTC │\n",
            "│ 2013 ┆ 1     ┆ 1   ┆ 957      ┆ … ┆ 200      ┆ 7    ┆ 33     ┆ 2013-01-01 12:00:00 UTC │\n",
            "│ 2013 ┆ 1     ┆ 1   ┆ 1114     ┆ … ┆ 1416     ┆ 9    ┆ 0      ┆ 2013-01-01 14:00:00 UTC │\n",
            "│ 2013 ┆ 1     ┆ 1   ┆ 1540     ┆ … ┆ 1598     ┆ 13   ┆ 38     ┆ 2013-01-01 18:00:00 UTC │\n",
            "│ 2013 ┆ 1     ┆ 1   ┆ 1815     ┆ … ┆ 1134     ┆ 13   ┆ 25     ┆ 2013-01-01 18:00:00 UTC │\n",
            "│ …    ┆ …     ┆ …   ┆ …        ┆ … ┆ …        ┆ …    ┆ …      ┆ …                       │\n",
            "│ 2013 ┆ 9     ┆ 30  ┆ 1823     ┆ … ┆ 765      ┆ 15   ┆ 45     ┆ 2013-09-30 19:00:00 UTC │\n",
            "│ 2013 ┆ 9     ┆ 30  ┆ 1951     ┆ … ┆ 708      ┆ 16   ┆ 49     ┆ 2013-09-30 20:00:00 UTC │\n",
            "│ 2013 ┆ 9     ┆ 30  ┆ 2053     ┆ … ┆ 746      ┆ 18   ┆ 15     ┆ 2013-09-30 22:00:00 UTC │\n",
            "│ 2013 ┆ 9     ┆ 30  ┆ 2159     ┆ … ┆ 301      ┆ 18   ┆ 45     ┆ 2013-09-30 22:00:00 UTC │\n",
            "│ 2013 ┆ 9     ┆ 30  ┆ 2235     ┆ … ┆ 944      ┆ 20   ┆ 1      ┆ 2013-10-01 00:00:00 UTC │\n",
            "└──────┴───────┴─────┴──────────┴───┴──────────┴──────┴────────┴─────────────────────────┘\n"
          ]
        }
      ],
      "source": [
        "# Example: Let's implement Exercise 2.1 (average delay by origin) in Polars\n",
        "\n",
        "# SQL version (for reference)\n",
        "sql_result = ctx.execute(\"\"\"\n",
        "    SELECT\n",
        "        origin,\n",
        "        AVG(dep_delay) as avg_delay\n",
        "    FROM flights\n",
        "    WHERE dep_delay IS NOT NULL\n",
        "    GROUP BY origin\n",
        "    ORDER BY avg_delay DESC\n",
        "\"\"\")\n",
        "\n",
        "# Polars version\n",
        "polars_result = (\n",
        "    flights\n",
        "    .filter(pl.col('dep_delay').is_not_null())\n",
        "    .group_by('origin')\n",
        "    .agg(pl.col('dep_delay').mean().alias('avg_delay'))\n",
        "    .sort('avg_delay', descending=True)\n",
        ")\n",
        "\n",
        "print(\"SQL Result:\")\n",
        "print(sql_result)\n",
        "print(\"\\nPolars Result:\")\n",
        "print(polars_result)\n",
        "\n",
        "# Now implement one of your own queries in Polars below:\n",
        "#SQL Version = Exercise 1.3\n",
        "result = ctx.execute(\"\"\"\n",
        "SELECT *\n",
        "FROM flights\n",
        "WHERE dep_delay > 120\n",
        "\"\"\")\n",
        "print(result)\n",
        "\n",
        "#Polars Version = Exercise 1.3\n",
        "# Your Polars code here\n",
        "\n",
        "delayed_flights = flights.filter(pl.col(\"dep_delay\") > 120)\n",
        "print(delayed_flights)"
      ]
    }
  ],
  "metadata": {
    "kernelspec": {
      "display_name": "Python 3",
      "language": "python",
      "name": "python3"
    },
    "language_info": {
      "codemirror_mode": {
        "name": "ipython",
        "version": 3
      },
      "file_extension": ".py",
      "mimetype": "text/x-python",
      "name": "python",
      "nbconvert_exporter": "python",
      "pygments_lexer": "ipython3",
      "version": "3.8.0"
    },
    "colab": {
      "provenance": []
    }
  },
  "nbformat": 4,
  "nbformat_minor": 0
}